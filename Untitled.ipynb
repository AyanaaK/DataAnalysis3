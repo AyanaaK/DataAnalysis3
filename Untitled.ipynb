{
 "cells": [
  {
   "cell_type": "code",
   "execution_count": 2,
   "id": "e532a277-21fd-4f80-8df5-079941fbd814",
   "metadata": {},
   "outputs": [
    {
     "name": "stdout",
     "output_type": "stream",
     "text": [
      "Requirement already satisfied: python-binance in c:\\users\\user\\appdata\\local\\programs\\python\\python313\\lib\\site-packages (1.0.28)\n",
      "Requirement already satisfied: pandas in c:\\users\\user\\appdata\\local\\programs\\python\\python313\\lib\\site-packages (2.2.3)\n",
      "Requirement already satisfied: requests in c:\\users\\user\\appdata\\local\\programs\\python\\python313\\lib\\site-packages (from python-binance) (2.32.3)\n",
      "Requirement already satisfied: six in c:\\users\\user\\appdata\\local\\programs\\python\\python313\\lib\\site-packages (from python-binance) (1.17.0)\n",
      "Requirement already satisfied: dateparser in c:\\users\\user\\appdata\\local\\programs\\python\\python313\\lib\\site-packages (from python-binance) (1.2.1)\n",
      "Requirement already satisfied: aiohttp in c:\\users\\user\\appdata\\local\\programs\\python\\python313\\lib\\site-packages (from python-binance) (3.11.16)\n",
      "Requirement already satisfied: websockets in c:\\users\\user\\appdata\\local\\programs\\python\\python313\\lib\\site-packages (from python-binance) (15.0.1)\n",
      "Requirement already satisfied: pycryptodome in c:\\users\\user\\appdata\\local\\programs\\python\\python313\\lib\\site-packages (from python-binance) (3.22.0)\n",
      "Requirement already satisfied: numpy>=1.26.0 in c:\\users\\user\\appdata\\local\\programs\\python\\python313\\lib\\site-packages (from pandas) (2.2.2)\n",
      "Requirement already satisfied: python-dateutil>=2.8.2 in c:\\users\\user\\appdata\\local\\programs\\python\\python313\\lib\\site-packages (from pandas) (2.9.0.post0)\n",
      "Requirement already satisfied: pytz>=2020.1 in c:\\users\\user\\appdata\\local\\programs\\python\\python313\\lib\\site-packages (from pandas) (2025.1)\n",
      "Requirement already satisfied: tzdata>=2022.7 in c:\\users\\user\\appdata\\local\\programs\\python\\python313\\lib\\site-packages (from pandas) (2025.1)\n",
      "Requirement already satisfied: aiohappyeyeballs>=2.3.0 in c:\\users\\user\\appdata\\local\\programs\\python\\python313\\lib\\site-packages (from aiohttp->python-binance) (2.6.1)\n",
      "Requirement already satisfied: aiosignal>=1.1.2 in c:\\users\\user\\appdata\\local\\programs\\python\\python313\\lib\\site-packages (from aiohttp->python-binance) (1.3.2)\n",
      "Requirement already satisfied: attrs>=17.3.0 in c:\\users\\user\\appdata\\local\\programs\\python\\python313\\lib\\site-packages (from aiohttp->python-binance) (25.1.0)\n",
      "Requirement already satisfied: frozenlist>=1.1.1 in c:\\users\\user\\appdata\\local\\programs\\python\\python313\\lib\\site-packages (from aiohttp->python-binance) (1.5.0)\n",
      "Requirement already satisfied: multidict<7.0,>=4.5 in c:\\users\\user\\appdata\\local\\programs\\python\\python313\\lib\\site-packages (from aiohttp->python-binance) (6.3.2)\n",
      "Requirement already satisfied: propcache>=0.2.0 in c:\\users\\user\\appdata\\local\\programs\\python\\python313\\lib\\site-packages (from aiohttp->python-binance) (0.3.1)\n",
      "Requirement already satisfied: yarl<2.0,>=1.17.0 in c:\\users\\user\\appdata\\local\\programs\\python\\python313\\lib\\site-packages (from aiohttp->python-binance) (1.19.0)\n",
      "Requirement already satisfied: regex!=2019.02.19,!=2021.8.27,>=2015.06.24 in c:\\users\\user\\appdata\\local\\programs\\python\\python313\\lib\\site-packages (from dateparser->python-binance) (2024.11.6)\n",
      "Requirement already satisfied: tzlocal>=0.2 in c:\\users\\user\\appdata\\local\\programs\\python\\python313\\lib\\site-packages (from dateparser->python-binance) (5.3.1)\n",
      "Requirement already satisfied: charset-normalizer<4,>=2 in c:\\users\\user\\appdata\\local\\programs\\python\\python313\\lib\\site-packages (from requests->python-binance) (3.4.1)\n",
      "Requirement already satisfied: idna<4,>=2.5 in c:\\users\\user\\appdata\\local\\programs\\python\\python313\\lib\\site-packages (from requests->python-binance) (3.10)\n",
      "Requirement already satisfied: urllib3<3,>=1.21.1 in c:\\users\\user\\appdata\\local\\programs\\python\\python313\\lib\\site-packages (from requests->python-binance) (2.3.0)\n",
      "Requirement already satisfied: certifi>=2017.4.17 in c:\\users\\user\\appdata\\local\\programs\\python\\python313\\lib\\site-packages (from requests->python-binance) (2025.1.31)\n",
      "Note: you may need to restart the kernel to use updated packages.\n"
     ]
    }
   ],
   "source": [
    "pip install python-binance pandas"
   ]
  },
  {
   "cell_type": "code",
   "execution_count": 23,
   "id": "252a4ad9-41dd-4a71-9598-7bd70aa47bd9",
   "metadata": {},
   "outputs": [
    {
     "name": "stdout",
     "output_type": "stream",
     "text": [
      "Топ-10 криптовалют с CoinGecko (без стейблкоинов):\n",
      "1. bitcoin → BTCUSDT\n",
      "2. ethereum → ETHUSDT\n",
      "3. ripple → XRPUSDT\n",
      "4. binancecoin → BNBUSDT\n",
      "5. solana → SOLUSDT\n",
      "6. dogecoin → DOGEUSDT\n",
      "7. cardano → ADAUSDT\n",
      "8. tron → TRXUSDT\n",
      "Загружается BTCUSDT...\n",
      "Загружается ETHUSDT...\n",
      "Загружается XRPUSDT...\n",
      "Загружается BNBUSDT...\n",
      "Загружается SOLUSDT...\n",
      "Загружается DOGEUSDT...\n",
      "Загружается ADAUSDT...\n",
      "Загружается TRXUSDT...\n",
      "Сохранено в auto_top10_binance_prices_2025.csv\n"
     ]
    }
   ],
   "source": [
    "from pycoingecko import CoinGeckoAPI\n",
    "from binance.client import Client\n",
    "import pandas as pd\n",
    "import datetime\n",
    "import time\n",
    "import warnings\n",
    "warnings.filterwarnings(\"ignore\", category=DeprecationWarning)\n",
    "\n",
    "\n",
    "# Инициализация клиентов\n",
    "cg = CoinGeckoAPI()\n",
    "binance_client = Client()\n",
    "\n",
    "# Получаем топ-10 монет с CoinGecko\n",
    "top_coins = cg.get_coins_markets(vs_currency='usd', order='market_cap_desc', per_page=10, page=1)\n",
    "\n",
    "# Исключаем стабильные монеты\n",
    "stablecoins = ['tether', 'usd-coin']\n",
    "filtered_coins = [coin for coin in top_coins if coin['id'] not in stablecoins]\n",
    "coin_id_to_symbol = {coin['id']: coin['symbol'].upper() for coin in filtered_coins}\n",
    "\n",
    "# Выводим отфильтрованный список\n",
    "print(\"Топ-10 криптовалют с CoinGecko (без стейблкоинов):\")\n",
    "for i, (cid, sym) in enumerate(coin_id_to_symbol.items(), 1):\n",
    "    print(f\"{i}. {cid} → {sym}USDT\")\n",
    "\n",
    "# Интервал и даты для 2025 года\n",
    "interval = '1d'\n",
    "start_date = \"2025-01-01 00:00:00\"\n",
    "end_date = \"2025-12-31 23:59:59\"\n",
    "\n",
    "\n",
    "# Сбор исторических цен\n",
    "def get_binance_data(symbol):\n",
    "    binance_symbol = f\"{symbol}USDT\"  # Формируем символ для Binance\n",
    "    try:\n",
    "        print(f\"Загружается {binance_symbol}...\")\n",
    "        klines = binance_client.get_historical_klines(binance_symbol, interval, start_date, end_date)\n",
    "        \n",
    "        # Преобразуем данные в DataFrame\n",
    "        df = pd.DataFrame(klines, columns=[\n",
    "            'timestamp', 'open', 'high', 'low', 'close', 'volume',\n",
    "            'close_time', 'quote_asset_volume', 'number_of_trades',\n",
    "            'taker_buy_base_asset_volume', 'taker_buy_quote_asset_volume', 'ignore'\n",
    "        ])\n",
    "        \n",
    "        # Конвертируем timestamp в datetime и устанавливаем его как индекс\n",
    "        df['timestamp'] = pd.to_datetime(df['timestamp'], unit='ms')\n",
    "        df.set_index('timestamp', inplace=True)\n",
    "        \n",
    "        # Оставляем только столбец 'close' и переименовываем его\n",
    "        df = df[['close']].astype(float).rename(columns={'close': binance_symbol})\n",
    "        \n",
    "        time.sleep(1)  # Пауза между запросами\n",
    "        return df\n",
    "    except Exception as e:\n",
    "        print(f\"Ошибка для {binance_symbol}: {e}\")\n",
    "        return None\n",
    "\n",
    "# Сбор данных для всех монет\n",
    "all_data = {}\n",
    "for coin_id, symbol in coin_id_to_symbol.items():\n",
    "    df = get_binance_data(symbol)\n",
    "    if df is not None:\n",
    "        all_data[symbol] = df\n",
    "\n",
    "# Объединение данных в один DataFrame\n",
    "merged_df = pd.concat(all_data.values(), axis=1)\n",
    "merged_df.dropna(inplace=True)  # Убираем строки с пропущенными значениями\n",
    "\n",
    "# Сохраняем результат в CSV\n",
    "merged_df.to_csv('auto_top10_binance_prices_2025.csv')\n",
    "print(\"Сохранено в auto_top10_binance_prices_2025.csv\")\n"
   ]
  },
  {
   "cell_type": "code",
   "execution_count": 14,
   "id": "f896d94f-ac64-4eb6-8eb5-693bf6f020bd",
   "metadata": {},
   "outputs": [
    {
     "name": "stdout",
     "output_type": "stream",
     "text": [
      "Requirement already satisfied: requests in c:\\users\\user\\appdata\\local\\programs\\python\\python313\\lib\\site-packages (2.32.3)\n",
      "Requirement already satisfied: charset-normalizer<4,>=2 in c:\\users\\user\\appdata\\local\\programs\\python\\python313\\lib\\site-packages (from requests) (3.4.1)\n",
      "Requirement already satisfied: idna<4,>=2.5 in c:\\users\\user\\appdata\\local\\programs\\python\\python313\\lib\\site-packages (from requests) (3.10)\n",
      "Requirement already satisfied: urllib3<3,>=1.21.1 in c:\\users\\user\\appdata\\local\\programs\\python\\python313\\lib\\site-packages (from requests) (2.3.0)\n",
      "Requirement already satisfied: certifi>=2017.4.17 in c:\\users\\user\\appdata\\local\\programs\\python\\python313\\lib\\site-packages (from requests) (2025.1.31)\n",
      "Note: you may need to restart the kernel to use updated packages.\n"
     ]
    }
   ],
   "source": [
    "pip install requests"
   ]
  },
  {
   "cell_type": "code",
   "execution_count": 31,
   "id": "30028f23-02b1-449e-a744-74de1adcee6a",
   "metadata": {},
   "outputs": [
    {
     "name": "stdout",
     "output_type": "stream",
     "text": [
      "Новости собраны и сохранены в 'crypto_news_2025.csv'.\n"
     ]
    }
   ],
   "source": [
    "import requests\n",
    "import pandas as pd\n",
    "\n",
    "# Ваш API токен\n",
    "auth_token = \"08ff16993756d5e8c5d677b5300bf5f9ce764a60\"\n",
    "\n",
    "# Указываем криптовалюты, для которых будем собирать новости\n",
    "cryptos = ['BTC', 'ETH', 'XRP', 'BNB', 'SOL', 'DOGE', 'ADA', 'TRX']\n",
    "\n",
    "# URL для API запроса\n",
    "url = f\"https://cryptopanic.com/api/v1/posts/?auth_token={auth_token}&currencies={','.join(cryptos)}&public=true\"\n",
    "\n",
    "# Получаем новости\n",
    "response = requests.get(url)\n",
    "if response.status_code == 200:\n",
    "    data = response.json()\n",
    "    # Преобразуем данные в DataFrame\n",
    "    posts = data['results']\n",
    "    news_df = pd.DataFrame(posts)\n",
    "    news_df.to_csv('crypto_news_2025.csv', index=False)\n",
    "    print(\"Новости собраны и сохранены в 'crypto_news_2025.csv'.\")\n",
    "else:\n",
    "    print(f\"Ошибка получения новостей: {response.status_code}\")\n"
   ]
  },
  {
   "cell_type": "code",
   "execution_count": 32,
   "id": "871a9dba-f018-412c-8062-18595175d69b",
   "metadata": {},
   "outputs": [
    {
     "name": "stdout",
     "output_type": "stream",
     "text": [
      "Предобработанные данные сохранены в preprocessed_crypto_data.csv\n"
     ]
    }
   ],
   "source": [
    "import pandas as pd\n",
    "from scipy import stats\n",
    "from sklearn.preprocessing import StandardScaler\n",
    "\n",
    "# Удаление дубликатов\n",
    "merged_df = merged_df.drop_duplicates()\n",
    "\n",
    "# Обработка пропусков\n",
    "merged_df = merged_df.fillna(merged_df.mean())  # Заполнение пропусков средним значением\n",
    "\n",
    "# Обработка выбросов (фильтрация по межквартильному размаху)\n",
    "Q1 = merged_df.quantile(0.25)\n",
    "Q3 = merged_df.quantile(0.75)\n",
    "IQR = Q3 - Q1\n",
    "merged_df = merged_df[~((merged_df < (Q1 - 1.5 * IQR)) | (merged_df > (Q3 + 1.5 * IQR))).any(axis=1)]\n",
    "\n",
    "# Стандартизация данных\n",
    "scaler = StandardScaler()\n",
    "merged_df[merged_df.columns] = scaler.fit_transform(merged_df[merged_df.columns])\n",
    "\n",
    "# Сохранение в файл\n",
    "merged_df.to_csv('preprocessed_crypto_data.csv')\n",
    "print(\"Предобработанные данные сохранены в preprocessed_crypto_data.csv\")"
   ]
  },
  {
   "cell_type": "code",
   "execution_count": 33,
   "id": "8f411dc2-f996-4d55-bce6-3f2f2d85d261",
   "metadata": {},
   "outputs": [
    {
     "name": "stdout",
     "output_type": "stream",
     "text": [
      "Синхронизация завершена. Данные сохранены в merged_prices_news.csv\n"
     ]
    }
   ],
   "source": [
    "import pandas as pd\n",
    "\n",
    "# Загрузка новостей и цен\n",
    "news_df = pd.read_csv('crypto_news_2025.csv')\n",
    "price_df = pd.read_csv('preprocessed_crypto_data.csv')\n",
    "\n",
    "# Приводим даты к одному формату\n",
    "news_df['published_at'] = pd.to_datetime(news_df['published_at']).dt.date\n",
    "price_df['timestamp'] = pd.to_datetime(price_df['timestamp']).dt.date\n",
    "\n",
    "# Пример: считаем количество новостей в день\n",
    "daily_news_count = news_df.groupby('published_at').size().reset_index(name='news_count')\n",
    "\n",
    "# Объединяем по дате\n",
    "merged_final_df = price_df.merge(daily_news_count, how='left', left_on='timestamp', right_on='published_at')\n",
    "\n",
    "# Заполняем пропуски (если в какой-то день не было новостей)\n",
    "merged_final_df['news_count'] = merged_final_df['news_count'].fillna(0)\n",
    "\n",
    "# Сохраняем\n",
    "merged_final_df.to_csv('merged_prices_news.csv', index=False)\n",
    "print(\"Синхронизация завершена. Данные сохранены в merged_prices_news.csv\")\n"
   ]
  },
  {
   "cell_type": "code",
   "execution_count": 34,
   "id": "af22f06f-f5be-4cf8-a920-326baf33b9af",
   "metadata": {},
   "outputs": [
    {
     "name": "stdout",
     "output_type": "stream",
     "text": [
      "Requirement already satisfied: textblob in c:\\users\\user\\appdata\\local\\programs\\python\\python313\\lib\\site-packages (0.19.0)Note: you may need to restart the kernel to use updated packages.\n",
      "\n",
      "Requirement already satisfied: nltk in c:\\users\\user\\appdata\\local\\programs\\python\\python313\\lib\\site-packages (3.9.1)\n",
      "Requirement already satisfied: click in c:\\users\\user\\appdata\\local\\programs\\python\\python313\\lib\\site-packages (from nltk) (8.1.8)\n",
      "Requirement already satisfied: joblib in c:\\users\\user\\appdata\\local\\programs\\python\\python313\\lib\\site-packages (from nltk) (1.4.2)\n",
      "Requirement already satisfied: regex>=2021.8.3 in c:\\users\\user\\appdata\\local\\programs\\python\\python313\\lib\\site-packages (from nltk) (2024.11.6)\n",
      "Requirement already satisfied: tqdm in c:\\users\\user\\appdata\\local\\programs\\python\\python313\\lib\\site-packages (from nltk) (4.67.1)\n",
      "Requirement already satisfied: colorama in c:\\users\\user\\appdata\\local\\programs\\python\\python313\\lib\\site-packages (from click->nltk) (0.4.6)\n"
     ]
    }
   ],
   "source": [
    "pip install textblob nltk"
   ]
  },
  {
   "cell_type": "code",
   "execution_count": 35,
   "id": "0131b089-d789-467a-95c3-4ef2b10991bc",
   "metadata": {},
   "outputs": [
    {
     "name": "stdout",
     "output_type": "stream",
     "text": [
      "Тональность новостей добавлена и сохранена в 'crypto_news_with_sentiment_2025.csv'.\n"
     ]
    }
   ],
   "source": [
    "import pandas as pd\n",
    "from textblob import TextBlob\n",
    "import string\n",
    "\n",
    "# Загружаем данные\n",
    "news_df = pd.read_csv('crypto_news_2025.csv')\n",
    "\n",
    "# Функция для очистки текста\n",
    "def clean_text(text):\n",
    "    # Приводим к нижнему регистру и удаляем знаки препинания\n",
    "    text = text.lower()\n",
    "    text = ''.join([char for char in text if char not in string.punctuation])\n",
    "    return text\n",
    "\n",
    "# Применяем очистку текста\n",
    "news_df['cleaned_text'] = news_df['title'].apply(clean_text)\n",
    "\n",
    "# Функция для анализа тональности\n",
    "def get_sentiment(text):\n",
    "    # Используем TextBlob для анализа тональности\n",
    "    blob = TextBlob(text)\n",
    "    sentiment = blob.sentiment.polarity\n",
    "    # Положительное значение - позитивная, отрицательное - негативная, близкое к 0 - нейтральная\n",
    "    if sentiment > 0:\n",
    "        return 'positive'\n",
    "    elif sentiment < 0:\n",
    "        return 'negative'\n",
    "    else:\n",
    "        return 'neutral'\n",
    "\n",
    "# Применяем анализ тональности\n",
    "news_df['sentiment'] = news_df['cleaned_text'].apply(get_sentiment)\n",
    "\n",
    "# Сохраняем результаты\n",
    "news_df.to_csv('crypto_news_with_sentiment_2025.csv', index=False)\n",
    "print(\"Тональность новостей добавлена и сохранена в 'crypto_news_with_sentiment_2025.csv'.\")\n"
   ]
  }
 ],
 "metadata": {
  "kernelspec": {
   "display_name": "Python 3 (ipykernel)",
   "language": "python",
   "name": "python3"
  },
  "language_info": {
   "codemirror_mode": {
    "name": "ipython",
    "version": 3
   },
   "file_extension": ".py",
   "mimetype": "text/x-python",
   "name": "python",
   "nbconvert_exporter": "python",
   "pygments_lexer": "ipython3",
   "version": "3.13.2"
  }
 },
 "nbformat": 4,
 "nbformat_minor": 5
}
